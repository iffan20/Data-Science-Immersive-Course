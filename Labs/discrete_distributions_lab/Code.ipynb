{
 "cells": [
  {
   "cell_type": "markdown",
   "metadata": {
    "jp-MarkdownHeadingCollapsed": true
   },
   "source": [
    "# \"Fun with Loot Boxes\" Lab\n",
    "\n",
    "> Author: Caroline Schmitt, Matt Brems\n",
    "\n",
    "### Scenario:\n",
    "\n",
    "You're an analyst for [Zynga](https://en.wikipedia.org/wiki/Zynga), a gaming studio working on an event for an MMO (massively multiplayer online) game. This event is going to include **loot boxes**.\n",
    "\n",
    "<img src=\"https://vignette.wikia.nocookie.net/2007scape/images/0/06/Culinaromancer%27s_chest.png/revision/latest?cb=20180403231423\" alt=\"drawing\" width=\"150\"/> \n",
    "\n",
    "A loot box is basically a treasure chest in a game. This loot box can be opened to reveal a variety of items: some items are very rare and valuable, other items are common and less valuable. (You may consult [the esteemed Wikipedia](https://en.wikipedia.org/wiki/Loot_box) for a more extensive definition.)\n",
    "\n",
    "In our specific game, suppose that loot boxes can be obtained in one of two ways: \n",
    "- After every three hours of playing the game, a user will earn one loot box.\n",
    "- If the user wishes to purchase a loot box, they may pay $1 (in real money!) for a loot box.\n",
    "\n",
    "These loot boxes are very good for our business!\n",
    "- If a player earns a loot box, it means they are spending lots of time on the game. This often leads to advertisement revenue, they may tell their friends to join the game, etc.\n",
    "- If the player purchases a loot box, it means we've earned $1 from our customer.\n",
    "\n",
    "Suppose each loot box is opened to reveal either:\n",
    "- magical elixir (super rare, very valuable), or\n",
    "- nothing.\n",
    "\n",
    "Whether each loot box contains the elixir or nothing is **random**. Our boss wants some guidance on what sort of randomness to use on these loot boxes! \n",
    "- If the magical elixir is too rare, then users may not be motivated to try to get them, because they believe they'll never find the magical elixir.\n",
    "- If the magical elixir is too common, then users may not be motivated to try to get them, because the game has so much of the magical elixir that it isn't worthwhile to try to get it.\n",
    "\n",
    "However, our boss isn't a math-y type person! When explaining things to our boss, we need to explain the impact of our choices on the game as concretely as possible."
   ]
  },
  {
   "cell_type": "code",
   "execution_count": 2,
   "metadata": {},
   "outputs": [],
   "source": [
    "# Difinitions for this lab...\n",
    "\n",
    "#  PMF - (Probability Mass Function) - Discrete distribution function return the probability\n",
    "# that a random variables equal a spesific value\n",
    "\n",
    "# CDF - (Cumulative Distribution Function) - Probability that random variable is less than or equal"
   ]
  },
  {
   "cell_type": "markdown",
   "metadata": {},
   "source": [
    "### Version 1\n",
    "In our first version of the game, we'll say that loot boxes contain magical elixir 15% of the time and nothing 85% of the time."
   ]
  },
  {
   "cell_type": "markdown",
   "metadata": {},
   "source": [
    "#### 1. Our boss asks, \"If a user buys 100 loot boxes, how many elixirs will they get?\" How would you respond?"
   ]
  },
  {
   "cell_type": "code",
   "execution_count": 5,
   "metadata": {},
   "outputs": [],
   "source": [
    "# Answer : We can't guarantee how many elixirs one person woulf get. It's posibile, though unlikely, that\n",
    "# a player who is very lucky gets 100 elixirs out of 100 loot boxes. It's also possible, though unlikely,\n",
    "# that a player who is vvery unlucky gets none. The expected value is 15 But that does not in anyway mean\n",
    "# every player gets 15 out of every 100 loot boxes."
   ]
  },
  {
   "cell_type": "code",
   "execution_count": 6,
   "metadata": {},
   "outputs": [
    {
     "name": "stdout",
     "output_type": "stream",
     "text": [
      "Expected number of elixirs from 100 loot boxes: 15.0\n"
     ]
    }
   ],
   "source": [
    "#Expected Value (EV) is the average outcome of an event if repeated many times.\n",
    "# it's calculated bu multiplying each possible outcome by it's probability and summing\n",
    "# these products together.\n",
    "# EV helps predict long-term results in situation involving chance.\n",
    "\n",
    "def calculate_elixir_ev(elisir_probability, num_boxes):\n",
    "    return elisir_probability * num_boxes\n",
    "\n",
    "# Game parameters:\n",
    "elixir_prob = 0.15\n",
    "nothing_prob = 0.85\n",
    "num_loot_boxes = 100\n",
    "\n",
    "expected_elisirs = calculate_elixir_ev(elixir_prob, num_loot_boxes)\n",
    "print(f\"Expected number of elixirs from {num_loot_boxes} loot boxes: {expected_elisirs}\")"
   ]
  },
  {
   "cell_type": "markdown",
   "metadata": {},
   "source": [
    "#### 2. Our boss asks, \"How many loot boxes does someone have to purchase in order to definitely get elixir?\" How would you respond?"
   ]
  },
  {
   "cell_type": "code",
   "execution_count": 11,
   "metadata": {},
   "outputs": [],
   "source": [
    "# Answer : Soneone could theoretically purchase an infinite of loot boxes and never get an elixir.\n",
    "# We can't guarantee how many loot boxes one would need to purchase until they find an elixir.\n",
    "\n",
    "# But, if each box has a 15% chance of obtaining an elixir,\n",
    "# regardless of previous loot box purchases or openings, then, ON AVERAGE, a user would need to open about\n",
    "# 7 loot boxes to get an elixir. But, again, this is just an average. Some users will need fewer\n",
    "# loot boxes to get an elixir and some will need more. The actual number for any given user can vary\n",
    "# widely due to the Random nature of the process."
   ]
  },
  {
   "cell_type": "markdown",
   "metadata": {},
   "source": [
    "#### 3. Our boss asks, \"If a user earns 100 loot boxes, what is the chance that a user gets more than 20 elixirs?\" This is a bit more complicated, so let's break it down before answering."
   ]
  },
  {
   "cell_type": "markdown",
   "metadata": {},
   "source": [
    "#### 3a. Let's suppose my random variable $X$ counts up how many elixirs I observe out of my 100 loot boxes. Why is $X$ a discrete random variable?"
   ]
  },
  {
   "cell_type": "code",
   "execution_count": 15,
   "metadata": {},
   "outputs": [],
   "source": [
    "# Distinct Random Variable - countable number of outcomes; distinct\n",
    "\n",
    "# Continuous Random Variable - uncountable number of outcomes\n",
    "\n",
    "# X if discrete, can take on 1, 2, 3, 4, so on. These are countable.\n",
    "# We can't 2.5 loot"
   ]
  },
  {
   "cell_type": "markdown",
   "metadata": {},
   "source": [
    "#### 3b. Recall our discrete distributions: discrete uniform, Bernoulli, binomial, Poisson. Let's suppose my random variable $X$ counts up how many elixirs I observe out of my 100 loot boxes. What distribution is best suited for $X$? Why?\n",
    "- Hint: It may help to consider getting the magical elixir a \"success\" and getting nothing a \"failure.\" "
   ]
  },
  {
   "cell_type": "code",
   "execution_count": 18,
   "metadata": {},
   "outputs": [],
   "source": [
    "# Discrete - each outcomes is equally likely\n",
    "# Bernoulli - numer of succes in one one trial. But we have 100 here..\n",
    "# Binomial - number of success in 'n' number of trials\n",
    "# Poission - binimial + time"
   ]
  },
  {
   "cell_type": "markdown",
   "metadata": {},
   "source": [
    "**Binomial Distribution** is best suited for the following reasons:\n",
    "- The experiment has only **two possible outcomes**: \"Nothing\" and \"Elixirs.\"\n",
    "- The experiment involves **repeated trials**, such as opening 100 boxes.\n",
    "- The probability of success (obtaining an Elixir) remains **constant** at 15%."
   ]
  },
  {
   "cell_type": "markdown",
   "metadata": {},
   "source": [
    "#### 3c. Our boss asks, \"If a user earns 100 loot boxes, what is the chance that a user gets more than 20 elixirs?\" Use the probability mass function to answer the boss' question."
   ]
  },
  {
   "cell_type": "code",
   "execution_count": 22,
   "metadata": {},
   "outputs": [],
   "source": [
    "import numpy as np\n",
    "import matplotlib.pyplot as plt\n",
    "import scipy.stats as stats"
   ]
  },
  {
   "cell_type": "code",
   "execution_count": 23,
   "metadata": {},
   "outputs": [],
   "source": [
    "n = 100\n",
    "p = 0.15 "
   ]
  },
  {
   "cell_type": "code",
   "execution_count": 24,
   "metadata": {},
   "outputs": [
    {
     "name": "stdout",
     "output_type": "stream",
     "text": [
      "0.06631976581888208\n"
     ]
    }
   ],
   "source": [
    "X = stats.binom(n, p)\n",
    "\n",
    "P = 1\n",
    "for x in range(20 + 1):\n",
    "    P = P - X.pmf(x)\n",
    "# Running a for loop to subtract  probability\n",
    "\n",
    "print(P)"
   ]
  },
  {
   "cell_type": "code",
   "execution_count": 25,
   "metadata": {},
   "outputs": [
    {
     "name": "stdout",
     "output_type": "stream",
     "text": [
      " The probability of getting more than 20 elixirs from 100 loot boxes is 0.0663\n"
     ]
    }
   ],
   "source": [
    "def calculate_elixir_probability():\n",
    "    return sum(stats.binom.pmf(x, n =100 , p = 0.15) for x in range(21,101))\n",
    "\n",
    "result = calculate_elixir_probability()\n",
    "print(f\" The probability of getting more than 20 elixirs from 100 loot boxes is {result:.4f}\")"
   ]
  },
  {
   "cell_type": "markdown",
   "metadata": {},
   "source": [
    "#### 3d. Our boss asks, \"If a user earns 100 loot boxes, what is the chance that a user gets more than 20 elixirs?\" Use the cumulative distribution function to answer the boss' question."
   ]
  },
  {
   "cell_type": "code",
   "execution_count": 27,
   "metadata": {},
   "outputs": [
    {
     "name": "stdout",
     "output_type": "stream",
     "text": [
      "The probability of getting more than 20 elixirs from 100 loot boxes is 0.0663\n"
     ]
    }
   ],
   "source": [
    "# Use the cdf \n",
    "print(f\"The probability of getting more than 20 elixirs from 100 loot boxes is {1- stats.binom.cdf(20,100,0.15):.4f}\")"
   ]
  },
  {
   "cell_type": "code",
   "execution_count": 28,
   "metadata": {},
   "outputs": [
    {
     "name": "stdout",
     "output_type": "stream",
     "text": [
      "The probability of getting more than 20 elixirs from 100 loot boxes is 6.63%\n"
     ]
    }
   ],
   "source": [
    "elixirs_prob_cdf = X.cdf(20)\n",
    "print(f\"The probability of getting more than 20 elixirs from 100 loot boxes is {(1-elixirs_prob_cdf)*100:.2f}%\")"
   ]
  },
  {
   "cell_type": "markdown",
   "metadata": {},
   "source": [
    "#### 3e. Our boss asks, \"If a user earns 100 loot boxes, what is the chance that a user gets more than 20 elixirs?\" Answer your boss' question. *Remember that your boss is not a math-y person!*"
   ]
  },
  {
   "cell_type": "code",
   "execution_count": 36,
   "metadata": {},
   "outputs": [],
   "source": [
    "# If a user were to earn or buy 100 loot boxes, there's about a ~6.6% chance that get \n",
    "# more than 20 elixirs\n",
    "\n",
    "# Suppose there are 25,000 active users currently. If all 25,000 users earned 100 loot boxes,\n",
    "# then we expect about 1,650 of those users to get more 20 elixirs."
   ]
  },
  {
   "cell_type": "code",
   "execution_count": 38,
   "metadata": {},
   "outputs": [
    {
     "data": {
      "text/plain": [
       "1650.0"
      ]
     },
     "execution_count": 38,
     "metadata": {},
     "output_type": "execute_result"
    }
   ],
   "source": [
    "25_000 * 0.066"
   ]
  },
  {
   "cell_type": "markdown",
   "metadata": {},
   "source": [
    "#### 4. Your boss wants to know how many people purchased how many loot boxes last month. \n",
    "> For example, last month, 70% of users did not purchase any loot boxes. 10% of people purchased one loot box. 5% of people purchased two loot boxes... and so on.\n",
    "\n",
    "#### 4a. Recall our discrete distributions: discrete uniform, Bernoulli, binomial, Poisson. Let's suppose my random variable $Y$ counts up how many loot boxes each person purchased through the game last month. What distribution is best suited for $Y$? Why?"
   ]
  },
  {
   "cell_type": "markdown",
   "metadata": {},
   "source": [
    "**Poisson Distribution** is best suited for the following reasons:\n",
    "- The experiment has only **two possible outcomes**: \"Nothing\" and \"Elixirs.\"\n",
    "- The experiment involves **repeated trials**, such as opening 100 boxes.\n",
    "- The probability of success (obtaining an Elixir) remains **constant** at 15%.\n",
    "- The have relete with date"
   ]
  },
  {
   "cell_type": "markdown",
   "metadata": {},
   "source": [
    "#### 4b. Suppose that, on average, your customers purchased 2.7 loot boxes last month. In order for your revenue to be at least $500,000, at least how many users would you need on your platform? (Round your answer up to the nearest thousand.) "
   ]
  },
  {
   "cell_type": "code",
   "execution_count": 43,
   "metadata": {},
   "outputs": [
    {
     "name": "stdout",
     "output_type": "stream",
     "text": [
      "At least users we need : 186000\n"
     ]
    }
   ],
   "source": [
    "import math\n",
    "# Show your work; leave your answer in a comment.\n",
    "no_customer = math.ceil(500000/2.7/1000)*1000\n",
    "print(f'At least users we need : {no_customer}')"
   ]
  },
  {
   "cell_type": "markdown",
   "metadata": {},
   "source": [
    "#### 4c. Assume that your platform has the numer of users you mentioned in your last answer. Suppose that your platform calls anyone who purchases 5 or more loot boxes in a month a \"high value user.\" How much money do you expect to have earned from \"high value users?\" How about \"low value users?\""
   ]
  },
  {
   "cell_type": "code",
   "execution_count": 46,
   "metadata": {},
   "outputs": [
    {
     "name": "stdout",
     "output_type": "stream",
     "text": [
      "Least number of money that expect from high value users : 328395\n",
      "Most Number of money that expect from low value users : 481284\n"
     ]
    }
   ],
   "source": [
    "ro = 2.7 # rate of occur\n",
    "customers_distribution = stats.poisson(ro)\n",
    "\n",
    "low_value_users = round((sum(customers_distribution.pmf(k) for k in range(1, 4)))*no_customer)\n",
    "high_value_users = round(no_customer - low_value_users)\n",
    "print(f'Least number of money that expect from high value users : {high_value_users * 5}')\n",
    "print(f'Most Number of money that expect from low value users : {low_value_users * 4}')"
   ]
  },
  {
   "cell_type": "code",
   "execution_count": 48,
   "metadata": {},
   "outputs": [
    {
     "name": "stdout",
     "output_type": "stream",
     "text": [
      "<scipy.stats._distn_infrastructure.rv_discrete_frozen object at 0x0000019914B2F9E0>\n",
      "High value users : 25499\n",
      "High value users : 160501\n",
      "The number of money that expect from high value users : 4.44\n",
      "The number of money that expect from low value users : 2.42\n"
     ]
    }
   ],
   "source": [
    "ro = 2.7 # rate of occur\n",
    "customers_distribution = stats.poisson(ro)\n",
    "print(customers_distribution)\n",
    "low_value_users = round(sum(customers_distribution.pmf(k) for k in range(0, 5))*no_customer)\n",
    "high_value_users = no_customer - low_value_users\n",
    "\n",
    "# Calculate expected purchases for low and high value users\n",
    "expected_purchases_low = sum(k * customers_distribution.pmf(k) for k in range(1, 5)) / sum(customers_distribution.pmf(k) for k in range(1, 5))\n",
    "\n",
    "expected_purchases_high = (ro * no_customer - expected_purchases_low * low_value_users) / high_value_users\n",
    "print(f'High value users : {math.ceil(high_value_users)}')\n",
    "print(f'High value users : {math.ceil(low_value_users)}')\n",
    "print(f'The number of money that expect from high value users : {expected_purchases_high:.2f}')\n",
    "print(f'The number of money that expect from low value users : {expected_purchases_low:.2f}')\n",
    "\n"
   ]
  },
  {
   "cell_type": "code",
   "execution_count": 50,
   "metadata": {},
   "outputs": [
    {
     "name": "stdout",
     "output_type": "stream",
     "text": [
      "There are 12500 users expected to purchase 0 loot boxes.\n",
      "We are expected to make $0\n",
      "There are 33751 users expected to purchase 1 loot boxes.\n",
      "We are expected to make $33751\n",
      "There are 45563 users expected to purchase 2 loot boxes.\n",
      "We are expected to make $91127\n",
      "There are 41007 users expected to purchase 3 loot boxes.\n",
      "We are expected to make $123021\n",
      "There are 27680 users expected to purchase 4 loot boxes.\n",
      "We are expected to make $110719\n",
      "We expect to make $502200 from all users.\n",
      "We expect to make $358618 from low value users.\n",
      "We expect to make $143582 from high value users.\n"
     ]
    }
   ],
   "source": [
    "amount = 0\n",
    "for x in range(5):\n",
    "    print(f\"There are {round(no_customer * stats.poisson(mu = 2.7).pmf(x))} users expected to purchase {x} loot boxes.\")\n",
    "    print(f\"We are expected to make ${round(no_customer * stats.poisson(mu = 2.7).pmf(x)*x)}\")\n",
    "    amount += round(no_customer * stats.poisson(mu = 2.7).pmf(x)*x)\n",
    "\n",
    "print(f\"We expect to make ${round(no_customer*2.7)} from all users.\")    \n",
    "print(f\"We expect to make ${amount} from low value users.\")\n",
    "print(f\"We expect to make ${round(no_customer*2.7)-amount} from high value users.\")"
   ]
  },
  {
   "cell_type": "markdown",
   "metadata": {},
   "source": [
    "#### 4d. Suppose that you want to summarize how many people purchased how many loot boxes last month for your boss. Since your boss isn't math-y, what are 2-4 summary numbers you might use to summarize this for your boss? (Your answers will vary here - use your judgment!)"
   ]
  },
  {
   "cell_type": "code",
   "execution_count": 53,
   "metadata": {},
   "outputs": [],
   "source": [
    "# Expected revenue total/ Expected revenue by user type\n",
    "# Count of user types\n",
    "# Average number of loot boxes purchased by users\n",
    "# Total number of loot bxes purchased by users\n",
    "# Ratio Low Value Users: High Value Users"
   ]
  },
  {
   "cell_type": "markdown",
   "metadata": {},
   "source": [
    "#### 5. Your boss asks \"How many loot boxes does it take before someone gets their first elixir?\" Using `np.random.choice`, simulate how many loot boxes it takes somone to get their first elixir. \n",
    "- Start an empty list.\n",
    "- Use control flow to have someone open loot boxes repeatedly.\n",
    "- Once they open a loot box containing an elixir, record the number of loot boxes it took in the empty list.\n",
    "- Repeat this process 100,000 times. \n",
    "\n",
    "This simulates how long it takes for someone to open a loot box containing elixir. Share the 5th, 25th, 50th, 75th, and 95th percentiles.\n",
    "\n",
    "> You may find [this documentation](https://docs.scipy.org/doc/numpy/reference/generated/numpy.random.choice.html)  and [this documentation](https://docs.scipy.org/doc/numpy/reference/generated/numpy.percentile.html) helpful."
   ]
  },
  {
   "cell_type": "code",
   "execution_count": null,
   "metadata": {},
   "outputs": [],
   "source": [
    "import numpy as np\n",
    "\n",
    "# Set random seed for reproducibility\n",
    "np.random.seed(42)\n",
    "\n",
    "# Create empty list to collect how long until each elixir is found\n",
    "times_until_elixir = []\n",
    "\n",
    "# Possible outcomes from opening a loot box\n",
    "loot_box = ['elixir', 'nothing']\n",
    "\n",
    "# Loop through 100,000 loot box openings (experiment)\n",
    "for i in range(100_000):\n",
    "    turns = 0\n",
    "\n",
    "    # Keep opening loot boxes until an 'elixir' is found\n",
    "    while True:\n",
    "        opened_loot_box = np.random.choice(loot_box, p=[0.15, 0.85])\n",
    "        turns += 1  # Increment turns with each loot box opening\n",
    "        if opened_loot_box == 'elixir':\n",
    "            times_until_elixir.append(turns)\n",
    "            break\n",
    "\n",
    "# Output the list of turns until an elixir was found\n",
    "print(times_until_elixir)\n"
   ]
  },
  {
   "cell_type": "markdown",
   "metadata": {},
   "source": [
    "**NOTE**: When your Jupyter notebook is open, double-click on this Markdown cell! You can delete this text and put your answer to the previous problem in here."
   ]
  },
  {
   "cell_type": "markdown",
   "metadata": {},
   "source": [
    "### Version 2\n",
    "\n",
    "After a substantial update to the game, suppose every loot box can be opened to reveal *one of four different* items:\n",
    "- magical elixir (occurs 1% of the time, most valuable)\n",
    "- golden pendant (occurs 9% of the time, valuable)\n",
    "- steel armor (occurs 30% of the time, semi-valuable)\n",
    "- bronze coin (occurs 60% of the time, least valuable)"
   ]
  },
  {
   "cell_type": "markdown",
   "metadata": {},
   "source": [
    "#### 6. Suppose you want repeat problem 5 above, but do that for the version 2 loot boxes so you can track how many loot boxes are needed to get each item? (e.g. You'd like to be able to say that on average it takes 10 trials to get a golden pendant, 3 trials to get steel armor, and so on.) What Python datatype is the best way to store this data? Why?"
   ]
  },
  {
   "cell_type": "code",
   "execution_count": 58,
   "metadata": {},
   "outputs": [],
   "source": [
    "# Dictionary - allows us to store key-value pairs\n",
    "# Each key could be the name of the new items (magical elixir, bronze coin, etc.)\n",
    "# Each value could be the simulated lish of how many turns are needed to find particular item.\n",
    "\n",
    "# Each value being the probability might be an option"
   ]
  },
  {
   "cell_type": "markdown",
   "metadata": {},
   "source": [
    "#### 7. Suppose you and your boss want to measure whether \"Version 2\" is better than \"Version 1.\" What metrics do you think are important to measure? (Your answers will vary here - use your judgment!)"
   ]
  },
  {
   "cell_type": "code",
   "execution_count": 61,
   "metadata": {},
   "outputs": [],
   "source": [
    "# 1. Total revenue from users  -> V.1 there have 2 outcomes for users but V.2 there have more than outcomes and make more persue users to buys the \n",
    "\n",
    "# 2. Total boxes purchased -> Making  more variety of play in games.\n",
    "\n",
    "# 3. Total number of users -> This make the retention rate for long term.\n",
    "\n",
    "# 4. Distribution of purchased will increasing "
   ]
  }
 ],
 "metadata": {
  "kernelspec": {
   "display_name": "Python 3 (ipykernel)",
   "language": "python",
   "name": "python3"
  },
  "language_info": {
   "codemirror_mode": {
    "name": "ipython",
    "version": 3
   },
   "file_extension": ".py",
   "mimetype": "text/x-python",
   "name": "python",
   "nbconvert_exporter": "python",
   "pygments_lexer": "ipython3",
   "version": "3.12.4"
  }
 },
 "nbformat": 4,
 "nbformat_minor": 4
}
