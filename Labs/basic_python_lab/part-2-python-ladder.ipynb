{
 "cells": [
  {
   "cell_type": "markdown",
   "metadata": {},
   "source": [
    "<img src=\"http://imgur.com/1ZcRyrc.png\" style=\"float: left; margin: 20px; height: 55px\" />\n",
    "\n",
    "# Python Ladder Challenge - Notebook 2\n",
    "\n",
    "_Author:_ Tim Book"
   ]
  },
  {
   "cell_type": "markdown",
   "metadata": {},
   "source": [
    "# Climb the Ladder!\n",
    "Our class moves quickly! Sometimes, it feels like we make leaps in logic that are a bit too big. Learn Python _slowly_, by doing many, many examples. Problems in this notebook start out easy and progressively get harder, so that the next rung of the Python ladder is always within reach."
   ]
  },
  {
   "cell_type": "markdown",
   "metadata": {},
   "source": [
    "# Section IV: Conditionals and Loops"
   ]
  },
  {
   "cell_type": "markdown",
   "metadata": {},
   "source": [
    "34) Print out the numbers 1 through 10."
   ]
  },
  {
   "cell_type": "code",
   "execution_count": 7,
   "metadata": {},
   "outputs": [
    {
     "name": "stdout",
     "output_type": "stream",
     "text": [
      "1\n",
      "2\n",
      "3\n",
      "4\n",
      "5\n",
      "6\n",
      "7\n",
      "8\n",
      "9\n",
      "10\n"
     ]
    }
   ],
   "source": [
    "for i in range(1,11):\n",
    "    print (i)"
   ]
  },
  {
   "cell_type": "markdown",
   "metadata": {},
   "source": [
    "35) Print out the odd numbers between 1 and 20 by using the third paramter to the `range()` function."
   ]
  },
  {
   "cell_type": "code",
   "execution_count": 11,
   "metadata": {},
   "outputs": [
    {
     "name": "stdout",
     "output_type": "stream",
     "text": [
      "1\n",
      "3\n",
      "5\n",
      "7\n",
      "9\n",
      "11\n",
      "13\n",
      "15\n",
      "17\n",
      "19\n"
     ]
    }
   ],
   "source": [
    "for i in range(1,21,2):\n",
    "    \n",
    "        print(i)"
   ]
  },
  {
   "cell_type": "markdown",
   "metadata": {},
   "source": [
    "36) Print out the odd numbers between 1 and 20 by checking if the number is even before printing."
   ]
  },
  {
   "cell_type": "code",
   "execution_count": 13,
   "metadata": {},
   "outputs": [
    {
     "name": "stdout",
     "output_type": "stream",
     "text": [
      "1\n",
      "3\n",
      "5\n",
      "7\n",
      "9\n",
      "11\n",
      "13\n",
      "15\n",
      "17\n",
      "19\n"
     ]
    }
   ],
   "source": [
    "for i in range(1,21):\n",
    "    if i % 2 != 0:\n",
    "        print(i)"
   ]
  },
  {
   "cell_type": "markdown",
   "metadata": {},
   "source": [
    "37) What is the sum of the first 100 integers? Hint: Create a variable `total` equal to zero, and increment `total` inside a loop."
   ]
  },
  {
   "cell_type": "code",
   "execution_count": 19,
   "metadata": {},
   "outputs": [
    {
     "name": "stdout",
     "output_type": "stream",
     "text": [
      "5050\n"
     ]
    }
   ],
   "source": [
    "total = 0\n",
    "for i in range(1,101):\n",
    "    total += i\n",
    "print(total)"
   ]
  },
  {
   "cell_type": "markdown",
   "metadata": {},
   "source": [
    "38) For each friend in your `friends` list, print `'PERSON IS AWESOME!'` in all caps, where `PERSON` is of course replaced with your friend's name."
   ]
  },
  {
   "cell_type": "code",
   "execution_count": 27,
   "metadata": {},
   "outputs": [],
   "source": [
    "friends = [\"Alice\", \"Bob\", \"Charlie\", \"Debbie\"]"
   ]
  },
  {
   "cell_type": "code",
   "execution_count": 31,
   "metadata": {},
   "outputs": [
    {
     "name": "stdout",
     "output_type": "stream",
     "text": [
      "Alice IS AWESOME!\n",
      "Bob IS AWESOME!\n",
      "Charlie IS AWESOME!\n",
      "Debbie IS AWESOME!\n"
     ]
    }
   ],
   "source": [
    "for friend in friends:\n",
    "    print(f'{friend} IS AWESOME!')"
   ]
  },
  {
   "cell_type": "markdown",
   "metadata": {},
   "source": [
    "39) Similar to the last problem, print `'PERSON IS AWESOME!'` for each friend in your friends list _only if their name ends in a vowel_. Otherwise, print `\"person is ok...\"` (all lowercase). "
   ]
  },
  {
   "cell_type": "code",
   "execution_count": 40,
   "metadata": {},
   "outputs": [
    {
     "name": "stdout",
     "output_type": "stream",
     "text": [
      "alice is awesome!\n",
      "bob is ok...\n",
      "charlie is awesome!\n",
      "debbie is awesome!\n"
     ]
    }
   ],
   "source": [
    "for friend in friends:\n",
    "    if friend[-1] == 'e':\n",
    "        \n",
    "        lower= (friend +' IS AWESOME!').lower()\n",
    "    else:\n",
    "        lower= (friend +' is ok...').lower()\n",
    "    print(lower)\n",
    "    "
   ]
  },
  {
   "cell_type": "markdown",
   "metadata": {},
   "source": [
    "40) For each number between 1 and 30 (inclusive), if a number is divisible by 3, print `'Fizz'`. Otherwise, just print the number."
   ]
  },
  {
   "cell_type": "code",
   "execution_count": 42,
   "metadata": {},
   "outputs": [
    {
     "name": "stdout",
     "output_type": "stream",
     "text": [
      "1\n",
      "2\n",
      "Fizz\n",
      "4\n",
      "5\n",
      "Fizz\n",
      "7\n",
      "8\n",
      "Fizz\n",
      "10\n",
      "11\n",
      "Fizz\n",
      "13\n",
      "14\n",
      "Fizz\n",
      "16\n",
      "17\n",
      "Fizz\n",
      "19\n",
      "20\n",
      "Fizz\n",
      "22\n",
      "23\n",
      "Fizz\n",
      "25\n",
      "26\n",
      "Fizz\n",
      "28\n",
      "29\n",
      "Fizz\n"
     ]
    }
   ],
   "source": [
    "for i in range(1,31):\n",
    "    if i % 3 ==0 :\n",
    "        print('Fizz')\n",
    "    else:\n",
    "        print(i)"
   ]
  },
  {
   "cell_type": "markdown",
   "metadata": {},
   "source": [
    "41) For each number between 1 and 30 (inclusive), if a number is divisible by 5, print `'Buzz'`. Otherwise, just print the number."
   ]
  },
  {
   "cell_type": "code",
   "execution_count": 44,
   "metadata": {},
   "outputs": [
    {
     "name": "stdout",
     "output_type": "stream",
     "text": [
      "1\n",
      "2\n",
      "3\n",
      "4\n",
      "Buzz\n",
      "6\n",
      "7\n",
      "8\n",
      "9\n",
      "Buzz\n",
      "11\n",
      "12\n",
      "13\n",
      "14\n",
      "Buzz\n",
      "16\n",
      "17\n",
      "18\n",
      "19\n",
      "Buzz\n",
      "21\n",
      "22\n",
      "23\n",
      "24\n",
      "Buzz\n",
      "26\n",
      "27\n",
      "28\n",
      "29\n",
      "Buzz\n"
     ]
    }
   ],
   "source": [
    "for i in range(1,31):\n",
    "    if i % 5 ==0 :\n",
    "        print('Buzz')\n",
    "    else:\n",
    "        print(i)"
   ]
  },
  {
   "cell_type": "markdown",
   "metadata": {},
   "source": [
    "42) **FIZZBUZZ!** For each number between 1 and 30 (inclusive),\n",
    "* if a number is divisible by 3, print `'Fizz'`\n",
    "* if a number is divisible by 5, print `'Buzz'`\n",
    "* if a number is divisible by both 3 and 5, instead print `'FizzBuzz'`,\n",
    "* otherwise, just print the number\n",
    "\n",
    "This problem is the famous \"Fizzbuzz\" problem - and is a very common interview coding challenge! If you can do this without help, you're making awesome progress! Well done!"
   ]
  },
  {
   "cell_type": "code",
   "execution_count": 48,
   "metadata": {},
   "outputs": [
    {
     "name": "stdout",
     "output_type": "stream",
     "text": [
      "1\n",
      "2\n",
      "Fizz\n",
      "4\n",
      "Buzz\n",
      "Fizz\n",
      "7\n",
      "8\n",
      "Fizz\n",
      "Buzz\n",
      "11\n",
      "Fizz\n",
      "13\n",
      "14\n",
      "FizzBuzz\n",
      "16\n",
      "17\n",
      "Fizz\n",
      "19\n",
      "Buzz\n",
      "Fizz\n",
      "22\n",
      "23\n",
      "Fizz\n",
      "Buzz\n",
      "26\n",
      "Fizz\n",
      "28\n",
      "29\n",
      "FizzBuzz\n"
     ]
    }
   ],
   "source": [
    "for i in range(1,31):\n",
    "    if i % 5 ==0 and i % 3 ==0:\n",
    "        print('FizzBuzz')\n",
    "    elif i % 3 ==0 :\n",
    "        print('Fizz')\n",
    "    elif i % 5 ==0 :\n",
    "        print('Buzz')\n",
    "    else:\n",
    "        print(i)"
   ]
  },
  {
   "cell_type": "markdown",
   "metadata": {},
   "source": [
    "43) Define some string `sentence`. If you can't think of a good one, feel free to use `fact` from the previous notebook."
   ]
  },
  {
   "cell_type": "code",
   "execution_count": 77,
   "metadata": {},
   "outputs": [
    {
     "name": "stdout",
     "output_type": "stream",
     "text": [
      "26\n"
     ]
    }
   ],
   "source": [
    "sentence = \"Python programming is fun.\"\n",
    "print(len(sentence))"
   ]
  },
  {
   "cell_type": "markdown",
   "metadata": {},
   "source": [
    "44) Count the number of vowels in `sentence` (no, y is not a vowel).\n",
    "* _Hint:_ What happens if you loop through a string?"
   ]
  },
  {
   "cell_type": "code",
   "execution_count": 79,
   "metadata": {},
   "outputs": [
    {
     "name": "stdout",
     "output_type": "stream",
     "text": [
      "6\n"
     ]
    }
   ],
   "source": [
    "vowels_list = ['a', 'e', 'i', 'o', 'u']\n",
    "count = 0\n",
    "for char in sentence:\n",
    "        if char in vowels_list:\n",
    "            count += 1   \n",
    "print(count)"
   ]
  },
  {
   "cell_type": "markdown",
   "metadata": {},
   "source": [
    "45) Define a variable `sentence_rm` that is equal to `sentence` with all vowels removed. \n",
    "* _Hint:_ This is a tough one. Start out with an empty string and concatenate all of the consonants to it inside a loop."
   ]
  },
  {
   "cell_type": "code",
   "execution_count": 81,
   "metadata": {},
   "outputs": [
    {
     "name": "stdout",
     "output_type": "stream",
     "text": [
      "Pythn prgrmmng s fn.\n",
      "20\n"
     ]
    }
   ],
   "source": [
    "rm_vowel = []\n",
    "for char in sentence:\n",
    "    if char not in vowels_list:\n",
    "        rm_vowel.append(char)\n",
    "\n",
    "\n",
    "result = ''.join(rm_vowel)\n",
    "print(result)\n",
    "\n",
    "\n"
   ]
  },
  {
   "cell_type": "markdown",
   "metadata": {},
   "source": [
    "46) Create a variable `fav_number` equal to whatever is your favorite integer. Write a loop to determine if `fav_number` is prime. Recall that a prime number is any number whose only divisors are 1 and itself. For example, 6 is not prime since it's divisible by 1, 2, 3, and 6. But 7 _is_ prime since it's only divisible by 1 and 7."
   ]
  },
  {
   "cell_type": "code",
   "execution_count": 93,
   "metadata": {},
   "outputs": [
    {
     "name": "stdin",
     "output_type": "stream",
     "text": [
      "Your Fav Num:  37\n"
     ]
    },
    {
     "name": "stdout",
     "output_type": "stream",
     "text": [
      "37: Your fav num is Prime Number\n"
     ]
    }
   ],
   "source": [
    "def prime_num(num):\n",
    "    divisor = 0\n",
    "    for i in range(1,num+1):\n",
    "        if num % i ==0:\n",
    "            divisor +=1\n",
    "    if divisor <= 2:\n",
    "        result = \": Your fav num is Prime Number\"\n",
    "    else:\n",
    "        result = \" : Your fav num is not Prime Number\"\n",
    "    return str(num) + result\n",
    "\n",
    "fav_number = int(input('Your Fav Num: '))\n",
    "print(prime_num(fav_number))"
   ]
  },
  {
   "cell_type": "markdown",
   "metadata": {},
   "source": [
    "47) A palindromic number reads the same both ways. For example, 1234321 is a palindrome. Write an `if` statement to test whether or not a number is palindromic."
   ]
  },
  {
   "cell_type": "code",
   "execution_count": 113,
   "metadata": {},
   "outputs": [
    {
     "name": "stdin",
     "output_type": "stream",
     "text": [
      "Your Fav Num:  414\n"
     ]
    },
    {
     "name": "stdout",
     "output_type": "stream",
     "text": [
      "414 : Your fav num is Palindrome Number\n",
      "True\n"
     ]
    }
   ],
   "source": [
    "def palindrome_num(strnum):\n",
    "    palindrom = strnum[::-1]\n",
    "    \n",
    "    if strnum == palindrom:\n",
    "        print(f\"{strnum} : Your fav num is Palindrome Number\")\n",
    "        return True\n",
    "    else:\n",
    "        print(f\"{strnum} : Your fav num is not Palindrome Number\")\n",
    "        return False\n",
    "    \n",
    "fav_number = str(int(input('Your Fav Num: ')))\n",
    "print(palindrome_num(fav_number))"
   ]
  },
  {
   "cell_type": "markdown",
   "metadata": {},
   "source": [
    "48) Find the largest palindrome made from the product of two two-digit numbers.\n",
    "* _Tip:_ Do not worry about the \"efficiency\" of your answer! The easiest answer is very inefficient."
   ]
  },
  {
   "cell_type": "code",
   "execution_count": 131,
   "metadata": {},
   "outputs": [
    {
     "name": "stdout",
     "output_type": "stream",
     "text": [
      "9009\n"
     ]
    }
   ],
   "source": [
    "def twodigit_multiple():\n",
    "    largest = 0\n",
    "    for i in range(10,100):\n",
    "        for j in range(10,100):\n",
    "            multiple = i * j\n",
    "            if palindrome_num(multiple) == True and largest < multiple:\n",
    "                largest = multiple\n",
    "    return largest \n",
    "    \n",
    "def palindrome_num(num):\n",
    "    num_str = str(num)\n",
    "    palindrome = num_str[::-1]\n",
    "    \n",
    "    if num_str == palindrome:\n",
    "        #print(f\"{num_str} : Your fav num is Palindrome Number\")\n",
    "        return True\n",
    "    else:\n",
    "        #print(f\"{num_str} : Your fav num is not Palindrome Number\")\n",
    "        return False\n",
    "    \n",
    "\n",
    "print(twodigit_multiple())\n",
    "\n",
    "\n",
    "                    \n",
    "        "
   ]
  },
  {
   "cell_type": "markdown",
   "metadata": {},
   "source": [
    "# Section V: List Comprehensions\n",
    "\n",
    "**Disclaimer:** Many (maybe all) of these exercises can be done without a list comprehension. However, listcomps are often the easiest way to solve a problem like this. Listcomps are also optimized in Python, meaning they are also often the _fastest_ way to solve a problem. In fact, **every problem in this section can be solved in one line of code!**\n",
    "\n",
    "---\n",
    "**IMPORTANT NOTE: Consider all ranges in this section to be *inclusive*.**"
   ]
  },
  {
   "cell_type": "markdown",
   "metadata": {},
   "source": [
    "49) Create a list of the numbers 1 through 10."
   ]
  },
  {
   "cell_type": "code",
   "execution_count": 147,
   "metadata": {},
   "outputs": [
    {
     "name": "stdout",
     "output_type": "stream",
     "text": [
      "[1, 2, 3, 4, 5, 6, 7, 8, 9, 10]\n"
     ]
    }
   ],
   "source": [
    "numbers = list(range(1, 11))\n",
    "print(numbers)"
   ]
  },
  {
   "cell_type": "markdown",
   "metadata": {},
   "source": [
    "50) Create a list of the squares of the numbers between 1 and 10."
   ]
  },
  {
   "cell_type": "code",
   "execution_count": 149,
   "metadata": {},
   "outputs": [
    {
     "name": "stdout",
     "output_type": "stream",
     "text": [
      "[1, 4, 9, 16, 25, 36, 49, 64, 81, 100]\n"
     ]
    }
   ],
   "source": [
    "number_square = [i**2 for i in range(1, 11)]\n",
    "print(number_square)\n"
   ]
  },
  {
   "cell_type": "markdown",
   "metadata": {},
   "source": [
    "51) Create a list of all the even numbers between 18 and 47."
   ]
  },
  {
   "cell_type": "code",
   "execution_count": 152,
   "metadata": {},
   "outputs": [
    {
     "name": "stdout",
     "output_type": "stream",
     "text": [
      "[18, 20, 22, 24, 26, 28, 30, 32, 34, 36, 38, 40, 42, 44, 46]\n"
     ]
    }
   ],
   "source": [
    "even_num = [i for i in range(18, 47) if  i % 2 ==0]\n",
    "print(even_num)\n"
   ]
  },
  {
   "cell_type": "markdown",
   "metadata": {},
   "source": [
    "52) Create a list of the squares of the even numbers between 1 and 20."
   ]
  },
  {
   "cell_type": "code",
   "execution_count": 156,
   "metadata": {},
   "outputs": [
    {
     "name": "stdout",
     "output_type": "stream",
     "text": [
      "[4, 16, 36, 64, 100, 144, 196, 256, 324, 400]\n"
     ]
    }
   ],
   "source": [
    "even_num_square = [i**2 for i in range(1, 21) if  i % 2 ==0]\n",
    "print(even_num_square)\n"
   ]
  },
  {
   "cell_type": "markdown",
   "metadata": {},
   "source": [
    "53) What is the sum of the cubes of the numbers between 7 and 37?"
   ]
  },
  {
   "cell_type": "code",
   "execution_count": 161,
   "metadata": {},
   "outputs": [
    {
     "name": "stdout",
     "output_type": "stream",
     "text": [
      "[343, 512, 729, 1000, 1331, 1728, 2197, 2744, 3375, 4096, 4913, 5832, 6859, 8000, 9261, 10648, 12167, 13824, 15625, 17576, 19683, 21952, 24389, 27000, 29791, 32768, 35937, 39304, 42875, 46656, 50653]\n"
     ]
    }
   ],
   "source": [
    "even_num_cube = [i**3 for i in range(7, 38) ]\n",
    "print(even_num_cube)\n"
   ]
  },
  {
   "cell_type": "markdown",
   "metadata": {},
   "source": [
    "54) Create a list of all of the numbers divisible by either 3 or 5 (or both) between 1 and 30."
   ]
  },
  {
   "cell_type": "code",
   "execution_count": 163,
   "metadata": {},
   "outputs": [
    {
     "name": "stdout",
     "output_type": "stream",
     "text": [
      "[3, 5, 6, 9, 10, 12, 15, 18, 20, 21, 24, 25, 27, 30]\n"
     ]
    }
   ],
   "source": [
    "divisible  = [i for i in range(1, 31) if i % 3 == 0 or i % 5 == 0 ]\n",
    "print(divisible)\n"
   ]
  },
  {
   "cell_type": "markdown",
   "metadata": {},
   "source": [
    "55) Redefine this list to be all uppercase."
   ]
  },
  {
   "cell_type": "code",
   "execution_count": 69,
   "metadata": {},
   "outputs": [],
   "source": [
    "friends = ['Alice', 'Bob', 'Charlie', 'Derek']"
   ]
  },
  {
   "cell_type": "code",
   "execution_count": 167,
   "metadata": {},
   "outputs": [
    {
     "name": "stdout",
     "output_type": "stream",
     "text": [
      "['ALICE', 'BOB', 'CHARLIE', 'DEBBIE']\n"
     ]
    }
   ],
   "source": [
    "freinds_upper  = [ friend.upper() for friend in friends ]\n",
    "print(freinds_upper)\n"
   ]
  },
  {
   "cell_type": "markdown",
   "metadata": {},
   "source": [
    "56) Remove all elements from `friends` whose names do not end in a vowel."
   ]
  },
  {
   "cell_type": "code",
   "execution_count": 169,
   "metadata": {},
   "outputs": [
    {
     "name": "stdout",
     "output_type": "stream",
     "text": [
      "['Bob']\n"
     ]
    }
   ],
   "source": [
    "freinds_upper  = [ friend for friend in friends if friend[-1] not in vowels_list]\n",
    "print(freinds_upper)\n"
   ]
  },
  {
   "cell_type": "markdown",
   "metadata": {},
   "source": [
    "57) Take the `sentence` you used earlier and remove the vowels again. This time, using a one-line list comprehension.\n",
    "\n",
    "* _Hint:_ You'll find the `.join()` method to be useful here."
   ]
  },
  {
   "cell_type": "code",
   "execution_count": 173,
   "metadata": {},
   "outputs": [
    {
     "name": "stdout",
     "output_type": "stream",
     "text": [
      "Pythn prgrmmng s fn.\n"
     ]
    }
   ],
   "source": [
    "rm_vowel = ''.join([char for char in sentence if char not in vowels_list])\n",
    "print(rm_vowel)"
   ]
  },
  {
   "cell_type": "markdown",
   "metadata": {},
   "source": [
    "58) You need to access Excel files that have names like `Jan 5.xlsx` or `Mar 15.xlsx`. Create a list of January 1 through January 31 like this. That is, create the list of: `['Jan 1.xlsx', 'Jan 2.xlsx', ... , 'Jan 31.xlsx']`."
   ]
  },
  {
   "cell_type": "code",
   "execution_count": 181,
   "metadata": {},
   "outputs": [
    {
     "name": "stdout",
     "output_type": "stream",
     "text": [
      "['Jan 1.xlsx.', 'Jan 2.xlsx.', 'Jan 3.xlsx.', 'Jan 4.xlsx.', 'Jan 5.xlsx.', 'Jan 6.xlsx.', 'Jan 7.xlsx.', 'Jan 8.xlsx.', 'Jan 9.xlsx.', 'Jan 10.xlsx.', 'Jan 11.xlsx.', 'Jan 12.xlsx.', 'Jan 13.xlsx.', 'Jan 14.xlsx.', 'Jan 15.xlsx.', 'Jan 16.xlsx.', 'Jan 17.xlsx.', 'Jan 18.xlsx.', 'Jan 19.xlsx.', 'Jan 20.xlsx.', 'Jan 21.xlsx.', 'Jan 22.xlsx.', 'Jan 23.xlsx.', 'Jan 24.xlsx.', 'Jan 25.xlsx.', 'Jan 26.xlsx.', 'Jan 27.xlsx.', 'Jan 28.xlsx.', 'Jan 29.xlsx.', 'Jan 30.xlsx.', 'Jan 31.xlsx.']\n"
     ]
    }
   ],
   "source": [
    "excel_name = ['Jan ' + str(i) + '.xlsx.' for i in range(1,32) ]\n",
    "print(excel_name)"
   ]
  },
  {
   "cell_type": "markdown",
   "metadata": {},
   "source": [
    "59) Below is a list of amounts in euros. Create a new list, `dollars`, which is these amounts converted to U.S. dollars. There are 1.1 dollars per euro."
   ]
  },
  {
   "cell_type": "code",
   "execution_count": 187,
   "metadata": {},
   "outputs": [],
   "source": [
    "euros = [4.50, 6.70, 3.25, 9.99, 12.75, 0.35]"
   ]
  },
  {
   "cell_type": "code",
   "execution_count": 189,
   "metadata": {},
   "outputs": [
    {
     "name": "stdout",
     "output_type": "stream",
     "text": [
      "[4.95, 7.370000000000001, 3.575, 10.989, 14.025, 0.385]\n"
     ]
    }
   ],
   "source": [
    "dollars = [euro*1.1 for euro in euros]\n",
    "print(dollars)"
   ]
  },
  {
   "cell_type": "markdown",
   "metadata": {},
   "source": [
    "60) Below is a list of heights in inches. In order to ride a roller coaster, you must be at least 5 feet tall (60 inches). Filter this list to be _only_ those heights tall enough to ride."
   ]
  },
  {
   "cell_type": "code",
   "execution_count": 208,
   "metadata": {},
   "outputs": [],
   "source": [
    "heights = [71, 48, 55, 65, 68, 60, 58, 53]"
   ]
  },
  {
   "cell_type": "code",
   "execution_count": 214,
   "metadata": {},
   "outputs": [
    {
     "name": "stdout",
     "output_type": "stream",
     "text": [
      "[71, 65, 68, 60]\n"
     ]
    }
   ],
   "source": [
    "tall_enought = [h for h in heights if h >= 60 ]\n",
    "print(tall_enought)"
   ]
  },
  {
   "cell_type": "markdown",
   "metadata": {},
   "source": [
    "61) Repeat the above exercise, except replace the lower heights with a `None` instead of dropping them.\n",
    "* _Hint:_ Python has an in-line `if` statement, sometimes called a _ternary operator_ that you might find useful here. For example:\n",
    "\n",
    "```\n",
    "print(\"Tall enough\" if 72 > 60 else \"Too short\")\n",
    "print(\"Tall enough\" if 52 > 60 else \"Too short\")\n",
    "```"
   ]
  },
  {
   "cell_type": "code",
   "execution_count": 246,
   "metadata": {},
   "outputs": [
    {
     "name": "stdout",
     "output_type": "stream",
     "text": [
      "['Tall enough', 'None', 'None', 'Tall enough', 'Tall enough', 'Tall enough', 'None', 'None']\n"
     ]
    }
   ],
   "source": [
    "tall_enought = [\"Tall enough\"  if h >= 60 else \"None\" for h in heights]\n",
    "print(tall_enought)"
   ]
  },
  {
   "cell_type": "markdown",
   "metadata": {},
   "source": [
    "62) Here are more heights below. However, this time, the information is contained in a dictionary. Create a list of the names _and ONLY the names_ of the people who are tall enough to ride the roller coaster.\n",
    "\n",
    "* _Hint:_ How can you loop through a dictionary?"
   ]
  },
  {
   "cell_type": "code",
   "execution_count": 249,
   "metadata": {},
   "outputs": [],
   "source": [
    "people = {\n",
    "    'Aaron': 58,\n",
    "    'Barbara': 66,\n",
    "    'Clarence': 62,\n",
    "    'Donovan': 55,\n",
    "    'Erika': 70,\n",
    "    'Fernando': 72\n",
    "}"
   ]
  },
  {
   "cell_type": "code",
   "execution_count": 253,
   "metadata": {},
   "outputs": [
    {
     "name": "stdout",
     "output_type": "stream",
     "text": [
      "['Barbara', 'Clarence', 'Erika', 'Fernando']\n"
     ]
    }
   ],
   "source": [
    "name = [key for key in people if people[key] >= 60]\n",
    "print(name)"
   ]
  },
  {
   "cell_type": "markdown",
   "metadata": {},
   "source": [
    "63) Below we have some more data on our classmates. This time, the dictionary values are test scores. A student's final grade is their _maximum_ score on these three tests. Create a list of the students' final grades."
   ]
  },
  {
   "cell_type": "code",
   "execution_count": 277,
   "metadata": {},
   "outputs": [],
   "source": [
    "people = {\n",
    "    'Aaron': [87, 52, 78],\n",
    "    'Barbara': [92, 79, 85],\n",
    "    'Clarence': [42, 68, 55],\n",
    "    'Donovan': [95, 100, 87],\n",
    "    'Erika': [62, 88, 47],\n",
    "    'Fernando': [84, 99, 0]\n",
    "}"
   ]
  },
  {
   "cell_type": "code",
   "execution_count": 281,
   "metadata": {},
   "outputs": [
    {
     "name": "stdout",
     "output_type": "stream",
     "text": [
      "[87, 92, 68, 100, 88, 99]\n"
     ]
    }
   ],
   "source": [
    "name = [max(people[key]) for key in people]\n",
    "print(name)"
   ]
  },
  {
   "cell_type": "markdown",
   "metadata": {},
   "source": [
    "64) Repeat the above problem, except create a _dictionary_ of the final scores, where the dictionary keys are the names, and the dictionary values are the final grade.\n",
    "\n",
    "* _Hint:_ You can do **dictionary comprehension** to solve this problem! Yes, it exists!"
   ]
  },
  {
   "cell_type": "code",
   "execution_count": 283,
   "metadata": {},
   "outputs": [
    {
     "name": "stdout",
     "output_type": "stream",
     "text": [
      "{'Aaron': 87, 'Barbara': 92, 'Clarence': 68, 'Donovan': 100, 'Erika': 88, 'Fernando': 99}\n"
     ]
    }
   ],
   "source": [
    "name = {key:max(people[key]) for key in people}\n",
    "print(name)"
   ]
  },
  {
   "cell_type": "markdown",
   "metadata": {},
   "source": [
    "65) Using the two lists defined below, create the following resulting list:\n",
    "\n",
    "`['AZ', 'BY', 'CX', 'DW', 'EV']`\n",
    "\n",
    "* _Hint:_ Check out the `zip()` function."
   ]
  },
  {
   "cell_type": "code",
   "execution_count": 321,
   "metadata": {},
   "outputs": [],
   "source": [
    "letters_a = ['A', 'B', 'C', 'D', 'E']\n",
    "letters_z = ['Z', 'Y', 'X', 'W', 'V']"
   ]
  },
  {
   "cell_type": "code",
   "execution_count": 343,
   "metadata": {},
   "outputs": [
    {
     "name": "stdout",
     "output_type": "stream",
     "text": [
      "['AZ', 'BY', 'CX', 'DW', 'EV']\n"
     ]
    }
   ],
   "source": [
    "concat_list =  [''.join(char) for char in list(zip(letters_a, letters_z))]\n",
    "print(concat_list)"
   ]
  },
  {
   "cell_type": "markdown",
   "metadata": {},
   "source": [
    "66) Using `letters_a` defined in the previous problem, create the following list:\n",
    "\n",
    "```\n",
    "[\n",
    "    'A is letter 1 of the alphabet',\n",
    "    'B is letter 2 of the alphabet',\n",
    "    ...\n",
    "]\n",
    "```\n",
    "\n",
    "* _Hint:_ Checkout the `enumerate()` function."
   ]
  },
  {
   "cell_type": "code",
   "execution_count": 355,
   "metadata": {},
   "outputs": [
    {
     "name": "stdout",
     "output_type": "stream",
     "text": [
      "['A is letter 1 of the alphabet', 'B is letter 2 of the alphabet', 'C is letter 3 of the alphabet', 'D is letter 4 of the alphabet', 'E is letter 5 of the alphabet']\n"
     ]
    }
   ],
   "source": [
    "index_char = [f'{char} is letter {index+1} of the alphabet' for index,char in enumerate(letters_a)]\n",
    "print(index_char)"
   ]
  },
  {
   "cell_type": "markdown",
   "metadata": {},
   "source": [
    "# Section VI: Libraries, imports and some more math!"
   ]
  },
  {
   "cell_type": "markdown",
   "metadata": {},
   "source": [
    "67) Import the `math` library"
   ]
  },
  {
   "cell_type": "code",
   "execution_count": 376,
   "metadata": {},
   "outputs": [],
   "source": [
    "import math"
   ]
  },
  {
   "cell_type": "markdown",
   "metadata": {},
   "source": [
    "68) The `math` library has a lot of cool stuff in it. For this problem, evaluate the following math expressions:"
   ]
  },
  {
   "cell_type": "markdown",
   "metadata": {},
   "source": [
    "a) $\\sin{\\frac{\\pi}{2}}$"
   ]
  },
  {
   "cell_type": "code",
   "execution_count": 380,
   "metadata": {},
   "outputs": [
    {
     "name": "stdout",
     "output_type": "stream",
     "text": [
      "1.0\n"
     ]
    }
   ],
   "source": [
    "pi = math.pi\n",
    "print(math.sin(pi/2))"
   ]
  },
  {
   "cell_type": "markdown",
   "metadata": {},
   "source": [
    "b) $\\ln{\\sqrt{e}}$\n",
    "* _Hint:_ A logarithm with base $e$ is represented by just `log` in `math`. In fact, throughout the course, $\\log$ with no subscript will always denote the natural log (ie, log base $e$)."
   ]
  },
  {
   "cell_type": "code",
   "execution_count": 383,
   "metadata": {},
   "outputs": [
    {
     "name": "stdout",
     "output_type": "stream",
     "text": [
      "0.5\n"
     ]
    }
   ],
   "source": [
    "print(math.log(math.sqrt(math.e)))"
   ]
  },
  {
   "cell_type": "markdown",
   "metadata": {},
   "source": [
    "c) $e^{3!}$"
   ]
  },
  {
   "cell_type": "code",
   "execution_count": 388,
   "metadata": {},
   "outputs": [
    {
     "name": "stdout",
     "output_type": "stream",
     "text": [
      "403.428793492735\n"
     ]
    }
   ],
   "source": [
    "print(math.e**(math.factorial(3)))"
   ]
  },
  {
   "cell_type": "markdown",
   "metadata": {},
   "source": [
    "69) Two popular math functions are the \"round up\" and \"round down\" functions. In computer science, we call them the \"ceiling\" and \"floor\" functions. They're used and denoted as follows:\n",
    "\n",
    "* `ceil(3.8)` $= \\lceil 3.8 \\rceil = 4$\n",
    "* `ceil(3.2)` $= \\lceil 3.2 \\rceil = 4$\n",
    "* `floor(3.8)` $= \\lfloor 3.8 \\rfloor = 3$\n",
    "* `floor(3.2)` $= \\lfloor 3.2 \\rfloor = 3$\n",
    "\n",
    "We _only_ need these two functions out of the `math` library. Use an `import` statement to import _only_ these two functions and verify the above examples are true."
   ]
  },
  {
   "cell_type": "code",
   "execution_count": 390,
   "metadata": {},
   "outputs": [],
   "source": [
    "from math import ceil"
   ]
  },
  {
   "cell_type": "raw",
   "metadata": {},
   "source": [
    "from math import floor"
   ]
  },
  {
   "cell_type": "markdown",
   "metadata": {},
   "source": [
    "70) We can also _alias_ library names if they're too long and we will be using them often. As we will do many times in this course, import the following three libraries:\n",
    "\n",
    "* Import the `numpy` library, aliasing it as `np`\n",
    "* Import the `pandas` library, aliasing it as `pd`\n",
    "* Import the `matplotlib.pyplot` library and submodule, aliasing it as `plt`"
   ]
  },
  {
   "cell_type": "code",
   "execution_count": 396,
   "metadata": {},
   "outputs": [],
   "source": [
    "import numpy as np\n",
    "import pandas as pd\n",
    "import matplotlib.pyplot as plt"
   ]
  },
  {
   "cell_type": "markdown",
   "metadata": {},
   "source": [
    "71) You can also import everything from a library all at once without needing to prefix it:\n",
    "\n",
    "`from math import *`\n",
    "\n",
    "For this question your task is: _never, **ever**_ do this.\n",
    "\n",
    "Why?\n",
    "1. It \"pollutes\" the namespace with variable names that could easily be overwritten on accident.\n",
    "    - For example, after the import we could accidentally define `sin = 'without'` then be surprised when `sin(0.5)` no longer works!\n",
    "2. It does not show the reader which module a given function came from. \n",
    "    - For example, we see above that `ceil` came from the `math` library since it was noted in the import.\n",
    "    - If we use * is much more difficult to determine which module `ceil` is from."
   ]
  }
 ],
 "metadata": {
  "kernelspec": {
   "display_name": "Python 3 (ipykernel)",
   "language": "python",
   "name": "python3"
  },
  "language_info": {
   "codemirror_mode": {
    "name": "ipython",
    "version": 3
   },
   "file_extension": ".py",
   "mimetype": "text/x-python",
   "name": "python",
   "nbconvert_exporter": "python",
   "pygments_lexer": "ipython3",
   "version": "3.12.4"
  }
 },
 "nbformat": 4,
 "nbformat_minor": 4
}
